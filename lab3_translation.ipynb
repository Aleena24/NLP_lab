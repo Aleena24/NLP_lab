{
  "nbformat": 4,
  "nbformat_minor": 0,
  "metadata": {
    "colab": {
      "provenance": [],
      "authorship_tag": "ABX9TyNkT6Hszhl9owbaCLqpFdqr",
      "include_colab_link": true
    },
    "kernelspec": {
      "name": "python3",
      "display_name": "Python 3"
    },
    "language_info": {
      "name": "python"
    }
  },
  "cells": [
    {
      "cell_type": "markdown",
      "metadata": {
        "id": "view-in-github",
        "colab_type": "text"
      },
      "source": [
        "<a href=\"https://colab.research.google.com/github/Aleena24/NLP_lab/blob/main/lab3_translation.ipynb\" target=\"_parent\"><img src=\"https://colab.research.google.com/assets/colab-badge.svg\" alt=\"Open In Colab\"/></a>"
      ]
    },
    {
      "cell_type": "code",
      "source": [
        "import nltk\n",
        "nltk.download('punkt')"
      ],
      "metadata": {
        "colab": {
          "base_uri": "https://localhost:8080/"
        },
        "id": "R05ZIIRCSkKo",
        "outputId": "84ac27ce-1114-43bc-ce42-814a7b0c7c70"
      },
      "execution_count": 9,
      "outputs": [
        {
          "output_type": "stream",
          "name": "stderr",
          "text": [
            "[nltk_data] Downloading package punkt to /root/nltk_data...\n",
            "[nltk_data]   Package punkt is already up-to-date!\n"
          ]
        },
        {
          "output_type": "execute_result",
          "data": {
            "text/plain": [
              "True"
            ]
          },
          "metadata": {},
          "execution_count": 9
        }
      ]
    },
    {
      "cell_type": "code",
      "source": [
        "def tokenize_malayalam(text):\n",
        "    # Tokenize Malayalam text\n",
        "    tokens = nltk.word_tokenize(text, language='malayalam')\n",
        "    return tokens\n",
        "\n",
        "def tokenize_french(text):\n",
        "    # Tokenize French text\n",
        "    tokens = nltk.word_tokenize(text, language='french')\n",
        "    return tokens\n"
      ],
      "metadata": {
        "id": "x9wvup11SmbG"
      },
      "execution_count": 10,
      "outputs": []
    },
    {
      "cell_type": "code",
      "source": [
        "# text in Malayalam and French\n",
        "malayalam_text = \"മലയാളം ഭാഷ ഒരു ദേശീയ ഭാഷയാണ്.\"\n",
        "french_text = \"Le français est une langue internationale.\""
      ],
      "metadata": {
        "id": "scT4l3O1Sp0P"
      },
      "execution_count": 11,
      "outputs": []
    },
    {
      "cell_type": "code",
      "execution_count": 12,
      "metadata": {
        "colab": {
          "base_uri": "https://localhost:8080/"
        },
        "id": "d5ZunXXHOzT2",
        "outputId": "9e7d1648-27a3-48f7-c10d-6e0608ce7933"
      },
      "outputs": [
        {
          "output_type": "stream",
          "name": "stdout",
          "text": [
            "Malayalam Tokens: ['മലയാളം', 'ഭാഷ', 'ഒരു', 'ദേശീയ', 'ഭാഷയാണ്', '.']\n",
            "French Tokens: ['Le', 'français', 'est', 'une', 'langue', 'internationale', '.']\n"
          ]
        }
      ],
      "source": [
        "# Tokenize text in Malayalam\n",
        "malayalam_tokens = tokenize_malayalam(malayalam_text)\n",
        "print(\"Malayalam Tokens:\", malayalam_tokens)\n",
        "\n",
        "# Tokenize text in French\n",
        "french_tokens = tokenize_french(french_text)\n",
        "print(\"French Tokens:\", french_tokens)"
      ]
    }
  ]
}