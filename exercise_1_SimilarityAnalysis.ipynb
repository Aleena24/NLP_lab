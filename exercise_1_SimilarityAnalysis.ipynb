{
  "nbformat": 4,
  "nbformat_minor": 0,
  "metadata": {
    "colab": {
      "provenance": [],
      "authorship_tag": "ABX9TyNJT46LojNHrSo0aQyx/MGe",
      "include_colab_link": true
    },
    "kernelspec": {
      "name": "python3",
      "display_name": "Python 3"
    },
    "language_info": {
      "name": "python"
    }
  },
  "cells": [
    {
      "cell_type": "markdown",
      "metadata": {
        "id": "view-in-github",
        "colab_type": "text"
      },
      "source": [
        "<a href=\"https://colab.research.google.com/github/Aleena24/NLP_lab/blob/main/exercise_1_SimilarityAnalysis.ipynb\" target=\"_parent\"><img src=\"https://colab.research.google.com/assets/colab-badge.svg\" alt=\"Open In Colab\"/></a>"
      ]
    },
    {
      "cell_type": "code",
      "execution_count": 1,
      "metadata": {
        "id": "Zn7wfpZFquM7"
      },
      "outputs": [],
      "source": [
        "import nltk\n",
        "from nltk.corpus import stopwords\n",
        "from nltk.tokenize import word_tokenize\n",
        "from nltk.stem import WordNetLemmatizer\n",
        "from sklearn.feature_extraction.text import TfidfVectorizer\n",
        "from sklearn.metrics.pairwise import cosine_similarity"
      ]
    },
    {
      "cell_type": "code",
      "source": [
        "# Download NLTK resources\n",
        "nltk.download('punkt')\n",
        "nltk.download('stopwords')\n",
        "nltk.download('wordnet')"
      ],
      "metadata": {
        "colab": {
          "base_uri": "https://localhost:8080/"
        },
        "id": "U_1HYtbZuHnr",
        "outputId": "ffe2b12a-dfa6-44c1-eff6-ffec11748281"
      },
      "execution_count": 2,
      "outputs": [
        {
          "output_type": "stream",
          "name": "stderr",
          "text": [
            "[nltk_data] Downloading package punkt to /root/nltk_data...\n",
            "[nltk_data]   Unzipping tokenizers/punkt.zip.\n",
            "[nltk_data] Downloading package stopwords to /root/nltk_data...\n",
            "[nltk_data]   Unzipping corpora/stopwords.zip.\n",
            "[nltk_data] Downloading package wordnet to /root/nltk_data...\n"
          ]
        },
        {
          "output_type": "execute_result",
          "data": {
            "text/plain": [
              "True"
            ]
          },
          "metadata": {},
          "execution_count": 2
        }
      ]
    },
    {
      "cell_type": "code",
      "source": [
        "# 2 documents\n",
        "para1 = \"The quick brown fox jumps over the lazy dog. It is a classic sentence used to showcase the usage of all the letters in the English alphabet. This sentence is often employed in typing practice and as an example in various linguistic studies.\"\n",
        "para2 = \"The lazy dog is jumped over by the quick brown fox. This sentence, much like its counterpart, demonstrates the utilization of all letters in the English alphabet. It serves as a common exercise in typing proficiency and is frequently referenced in linguistic research.\""
      ],
      "metadata": {
        "id": "-2DA_2hJuJh9"
      },
      "execution_count": 3,
      "outputs": []
    },
    {
      "cell_type": "code",
      "source": [
        "# Tokenization\n",
        "def preprocess(text):\n",
        "    # Tokenization\n",
        "    tokens = word_tokenize(text.lower())\n",
        "\n",
        "    # Remove stopwords\n",
        "    stop_words = set(stopwords.words('english'))\n",
        "    filtered_tokens = [token for token in tokens if token not in stop_words]\n",
        "\n",
        "    # Lemmatization\n",
        "    lemmatizer = WordNetLemmatizer()\n",
        "    lemmatized_tokens = [lemmatizer.lemmatize(token) for token in filtered_tokens]\n",
        "\n",
        "    return \" \".join(lemmatized_tokens)\n"
      ],
      "metadata": {
        "id": "5sbZ95pxuVgF"
      },
      "execution_count": 4,
      "outputs": []
    },
    {
      "cell_type": "code",
      "source": [
        "# Preprocess documents\n",
        "preprocessed_doc1 = preprocess(para1)\n",
        "preprocessed_doc2 = preprocess(para2)\n",
        "\n",
        "print(para1)\n",
        "print(para2)"
      ],
      "metadata": {
        "colab": {
          "base_uri": "https://localhost:8080/"
        },
        "id": "3iFX2wNZuZai",
        "outputId": "3c94a284-b9e4-48ff-b274-fad5e6da2118"
      },
      "execution_count": 6,
      "outputs": [
        {
          "output_type": "stream",
          "name": "stdout",
          "text": [
            "The quick brown fox jumps over the lazy dog. It is a classic sentence used to showcase the usage of all the letters in the English alphabet. This sentence is often employed in typing practice and as an example in various linguistic studies.\n",
            "The lazy dog is jumped over by the quick brown fox. This sentence, much like its counterpart, demonstrates the utilization of all letters in the English alphabet. It serves as a common exercise in typing proficiency and is frequently referenced in linguistic research.\n"
          ]
        }
      ]
    },
    {
      "cell_type": "markdown",
      "source": [
        "# TF-IDF (Term Frequency-Inverse Document Frequency)\n",
        "\n",
        "TF-IDF (Term Frequency-Inverse Document Frequency) vectors are numerical representations of text documents that capture the importance of terms in the context of a corpus."
      ],
      "metadata": {
        "id": "Ad8uUHnIwct-"
      }
    },
    {
      "cell_type": "code",
      "source": [
        "# Compute TF-IDF vectors\n",
        "vectorizer = TfidfVectorizer()\n",
        "tfidf_matrix = vectorizer.fit_transform([preprocessed_doc1, preprocessed_doc2])\n"
      ],
      "metadata": {
        "id": "wgCMfEKsuixO"
      },
      "execution_count": 7,
      "outputs": []
    },
    {
      "cell_type": "markdown",
      "source": [
        "# Cosine Similarity\n",
        "\n",
        "Cosine similarity is a measure used to determine how similar two vectors are in a multi-dimensional space"
      ],
      "metadata": {
        "id": "5TGZHBiLwCyI"
      }
    },
    {
      "cell_type": "code",
      "source": [
        "# Compute cosine similarity\n",
        "cosine_sim = cosine_similarity(tfidf_matrix[0:1], tfidf_matrix[1:2])"
      ],
      "metadata": {
        "id": "BUUjp9fpulNr"
      },
      "execution_count": 8,
      "outputs": []
    },
    {
      "cell_type": "markdown",
      "source": [
        "The value of 0.331 suggests that the documents share some common features or themes, but they are not highly similar."
      ],
      "metadata": {
        "id": "qJlW2PgovwLk"
      }
    },
    {
      "cell_type": "code",
      "source": [
        "print(\"Cosine Similarity between the two documents:\", cosine_sim[0][0])"
      ],
      "metadata": {
        "colab": {
          "base_uri": "https://localhost:8080/"
        },
        "id": "aBl-kpmKupVQ",
        "outputId": "87e9c11f-9fb5-4962-aa5f-be9d86f02ab9"
      },
      "execution_count": 9,
      "outputs": [
        {
          "output_type": "stream",
          "name": "stdout",
          "text": [
            "Cosine Similarity between the two documents: 0.3314837871046527\n"
          ]
        }
      ]
    },
    {
      "cell_type": "markdown",
      "source": [
        "# Similarity Analysis between 2 para with same text"
      ],
      "metadata": {
        "id": "7RKQWG3RyBGn"
      }
    },
    {
      "cell_type": "code",
      "source": [
        "para3 = \"The quick brown fox jumps over the lazy dog. It is a classic sentence used to showcase the usage of all the letters in the English alphabet. This sentence is often employed in typing practice and as an example in various linguistic studies.\"\n",
        "para4 = \"The quick brown fox jumps over the lazy dog. It is a classic sentence used to showcase the usage of all the letters in the English alphabet. This sentence is often employed in typing practice and as an example in various linguistic studies.\"\n"
      ],
      "metadata": {
        "id": "jCHVXAZOxqxA"
      },
      "execution_count": 10,
      "outputs": []
    },
    {
      "cell_type": "code",
      "source": [
        "# Preprocess documents\n",
        "preprocessed_doc1 = preprocess(para3)\n",
        "preprocessed_doc2 = preprocess(para4)\n",
        "\n",
        "print(para3)\n",
        "print(para4)"
      ],
      "metadata": {
        "colab": {
          "base_uri": "https://localhost:8080/"
        },
        "id": "rXDlxT6Xxv2b",
        "outputId": "72376866-2a0b-4bca-83ab-3cdc2734fc76"
      },
      "execution_count": 11,
      "outputs": [
        {
          "output_type": "stream",
          "name": "stdout",
          "text": [
            "The quick brown fox jumps over the lazy dog. It is a classic sentence used to showcase the usage of all the letters in the English alphabet. This sentence is often employed in typing practice and as an example in various linguistic studies.\n",
            "The quick brown fox jumps over the lazy dog. It is a classic sentence used to showcase the usage of all the letters in the English alphabet. This sentence is often employed in typing practice and as an example in various linguistic studies.\n"
          ]
        }
      ]
    },
    {
      "cell_type": "code",
      "source": [
        "# Compute TF-IDF vectors\n",
        "vectorizer = TfidfVectorizer()\n",
        "tfidf_matrix = vectorizer.fit_transform([preprocessed_doc1, preprocessed_doc2])\n"
      ],
      "metadata": {
        "id": "V2m5FBCTx1cA"
      },
      "execution_count": 12,
      "outputs": []
    },
    {
      "cell_type": "code",
      "source": [
        "# Compute cosine similarity\n",
        "cosine_sim = cosine_similarity(tfidf_matrix[0:1], tfidf_matrix[1:2])"
      ],
      "metadata": {
        "id": "zd3fF8Kmx6jc"
      },
      "execution_count": 13,
      "outputs": []
    },
    {
      "cell_type": "markdown",
      "source": [
        "If the cosine similarity is 1, it means the vectors have the same direction and are perfectly aligned, indicating maximum similarity."
      ],
      "metadata": {
        "id": "OwW36XH0yMgy"
      }
    },
    {
      "cell_type": "code",
      "source": [
        "print(\"Cosine Similarity between the two documents:\", cosine_sim[0][0])"
      ],
      "metadata": {
        "colab": {
          "base_uri": "https://localhost:8080/"
        },
        "id": "Lda2gTzjx8lf",
        "outputId": "4930534a-09d3-47e5-f965-8ec06b0f24da"
      },
      "execution_count": 14,
      "outputs": [
        {
          "output_type": "stream",
          "name": "stdout",
          "text": [
            "Cosine Similarity between the two documents: 1.0\n"
          ]
        }
      ]
    },
    {
      "cell_type": "markdown",
      "source": [
        "# # Similarity Analysis between 2 para with no similarity"
      ],
      "metadata": {
        "id": "rFiP-v34yRjI"
      }
    },
    {
      "cell_type": "code",
      "source": [
        "para5 = \"In the heart of the bustling city, the vibrant market came to life each morning with a symphony of colors and sounds. Stalls adorned with fresh produce and exotic spices beckoned shoppers, while the rhythmic chatter of vendors echoed through the narrow alleys. The aroma of street food wafted through the air, creating a sensory tapestry that encapsulated the lively atmosphere of the urban marketplace.\"\n",
        "para6 = \"Nestled at the edge of the ancient forest, a serene pond reflected the dappled sunlight filtering through the thick foliage. The tranquil water mirrored the surrounding trees and served as a haven for diverse wildlife. Birds chirped melodiously, their vibrant plumage blending with the lush greenery, while the occasional rustle of leaves hinted at the secretive movements of unseen creatures in the enchanting woodland.\""
      ],
      "metadata": {
        "id": "kyOvxKh_yaf9"
      },
      "execution_count": 15,
      "outputs": []
    },
    {
      "cell_type": "code",
      "source": [
        "# Preprocess documents\n",
        "preprocessed_doc1 = preprocess(para5)\n",
        "preprocessed_doc2 = preprocess(para6)\n",
        "\n",
        "print(para5)\n",
        "print(para6)"
      ],
      "metadata": {
        "colab": {
          "base_uri": "https://localhost:8080/"
        },
        "id": "5F77kLXgzIlE",
        "outputId": "afd3cf5c-ddf9-4d3e-9084-91378e7e13a9"
      },
      "execution_count": 17,
      "outputs": [
        {
          "output_type": "stream",
          "name": "stdout",
          "text": [
            "In the heart of the bustling city, the vibrant market came to life each morning with a symphony of colors and sounds. Stalls adorned with fresh produce and exotic spices beckoned shoppers, while the rhythmic chatter of vendors echoed through the narrow alleys. The aroma of street food wafted through the air, creating a sensory tapestry that encapsulated the lively atmosphere of the urban marketplace.\n",
            "Nestled at the edge of the ancient forest, a serene pond reflected the dappled sunlight filtering through the thick foliage. The tranquil water mirrored the surrounding trees and served as a haven for diverse wildlife. Birds chirped melodiously, their vibrant plumage blending with the lush greenery, while the occasional rustle of leaves hinted at the secretive movements of unseen creatures in the enchanting woodland.\n"
          ]
        }
      ]
    },
    {
      "cell_type": "code",
      "source": [
        "# Compute TF-IDF vectors\n",
        "vectorizer = TfidfVectorizer()\n",
        "tfidf_matrix = vectorizer.fit_transform([preprocessed_doc1, preprocessed_doc2])"
      ],
      "metadata": {
        "id": "GeoyW6ZSzNKU"
      },
      "execution_count": 18,
      "outputs": []
    },
    {
      "cell_type": "code",
      "source": [
        "# Compute cosine similarity\n",
        "cosine_sim = cosine_similarity(tfidf_matrix[0:1], tfidf_matrix[1:2])"
      ],
      "metadata": {
        "id": "P-9JNJvKzNdD"
      },
      "execution_count": 19,
      "outputs": []
    },
    {
      "cell_type": "markdown",
      "source": [
        "If the cosine similarity is near to -1,it means the two vectors are exactly opposite or dissimilar."
      ],
      "metadata": {
        "id": "A7a8stLjzfm7"
      }
    },
    {
      "cell_type": "code",
      "source": [
        "print(\"Cosine Similarity between the two documents:\", cosine_sim[0][0])"
      ],
      "metadata": {
        "colab": {
          "base_uri": "https://localhost:8080/"
        },
        "id": "VMwjgZkIzSmo",
        "outputId": "fada2cd7-070a-4063-b5da-196420fb1cda"
      },
      "execution_count": 20,
      "outputs": [
        {
          "output_type": "stream",
          "name": "stdout",
          "text": [
            "Cosine Similarity between the two documents: 0.013497591773582429\n"
          ]
        }
      ]
    }
  ]
}