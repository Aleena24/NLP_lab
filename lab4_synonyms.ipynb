{
  "nbformat": 4,
  "nbformat_minor": 0,
  "metadata": {
    "colab": {
      "provenance": [],
      "authorship_tag": "ABX9TyPZ7EcXbKtrCM4wKMLfYMpz",
      "include_colab_link": true
    },
    "kernelspec": {
      "name": "python3",
      "display_name": "Python 3"
    },
    "language_info": {
      "name": "python"
    }
  },
  "cells": [
    {
      "cell_type": "markdown",
      "metadata": {
        "id": "view-in-github",
        "colab_type": "text"
      },
      "source": [
        "<a href=\"https://colab.research.google.com/github/Aleena24/NLP_lab/blob/main/lab4_synonyms.ipynb\" target=\"_parent\"><img src=\"https://colab.research.google.com/assets/colab-badge.svg\" alt=\"Open In Colab\"/></a>"
      ]
    },
    {
      "cell_type": "code",
      "execution_count": 3,
      "metadata": {
        "colab": {
          "base_uri": "https://localhost:8080/"
        },
        "id": "DkVhDvusf2Sm",
        "outputId": "64748ae7-357c-454b-d451-59b297f664f8"
      },
      "outputs": [
        {
          "output_type": "stream",
          "name": "stderr",
          "text": [
            "[nltk_data] Downloading package wordnet to /root/nltk_data...\n"
          ]
        },
        {
          "output_type": "execute_result",
          "data": {
            "text/plain": [
              "True"
            ]
          },
          "metadata": {},
          "execution_count": 3
        }
      ],
      "source": [
        "import nltk\n",
        "nltk.download('wordnet')"
      ]
    },
    {
      "cell_type": "code",
      "source": [
        "word_list = list(set(wordnet.words()))\n",
        "print(word_list[:100])"
      ],
      "metadata": {
        "colab": {
          "base_uri": "https://localhost:8080/"
        },
        "id": "PF4J9QrcgRq9",
        "outputId": "2eb87f16-7dce-4d43-d83c-b9d8deac1ac4"
      },
      "execution_count": 4,
      "outputs": [
        {
          "output_type": "stream",
          "name": "stdout",
          "text": [
            "['unavailing', 'irrevocable', 'fire_truck', 'parcel', 'histaminase', 'tarzan', 'macrocosmic', 'pinning', \"printer's_devil\", 'eczema_hypertrophicum', 'algoid', 'background_level', 'incessancy', 'resourceful', 'common_fennel', 'dining_car', 'gobi_desert', 'pacinian_corpuscle', 'pitching', 'french-speaking', 'zeolite', 'clangorous', 'rejig', 'feodor_mikhailovich_dostoevski', 'stretch_reflex', 'pugin', 'intelligibility', 'untoasted', 'haricot', 'yard_goods', 'fistmele', 'exponential_return', 'maui', 'bennington', 'introvert', 'cantabrian_mountains', 'flying_gecko', 'mistranslate', 'pony_up', 'cautionary', 'xviii', 'ground_fire', 'genus_tylenchus', 'antennaria_dioica', 'trichiuridae', 'inquisitively', 'ru_486', 'value-system', 'amass', 'go_forth', 'family_canellaceae', 'tagalog', 'prosecute', 'chimneystack', 'rattan_cane', 'unexpended', 'rearmost', 'dialeurodes_citri', 'scrub_up', 'unreasonably', 'basidiomycete', 'fermentation', 'learned_reaction', 'rijsttaffel', 'anthropic', 'capital_of_jamaica', 'cullender', 'annihilative', 'whistler', 'placidly', 'salvadora', 'random', 'unauthorised', 'palingenesis', \"hare's-foot_fern\", 'paleology', 'cranial_nerve', 'kernel', 'ambrose', 'lactuca_sativa_asparagina', 'sense', 'storage_room', 'viola', 'hemlock_tree', 'half-term', 'pushy', 'adequately', 'busby', 'authenticator', 'vernacular', 'true_vocal_cord', 'scrape_along', 'genus_priodontes', 'actinomycete', 'ammonium_alum', 'dushanbe', 'ethics_committee', 'henry_morgan', 'alkalinize', 'third']\n"
          ]
        }
      ]
    },
    {
      "cell_type": "markdown",
      "source": [
        "# Third meaning"
      ],
      "metadata": {
        "id": "OUw-iTQGhXNH"
      }
    },
    {
      "cell_type": "code",
      "source": [
        "def find_third_meaning(word):\n",
        "    synsets = wordnet.synsets(word)\n",
        "    if len(synsets) >= 3:\n",
        "        third_meaning = synsets[2].definition()\n",
        "        return third_meaning\n",
        "    else:\n",
        "        return \"Word doesn't have enough meanings\"\n",
        "\n",
        "\n",
        "word = \"parcel\"\n",
        "third_meaning = find_third_meaning(word)\n",
        "print(\"Third meaning of '{}' is: {}\".format(word, third_meaning))"
      ],
      "metadata": {
        "colab": {
          "base_uri": "https://localhost:8080/"
        },
        "id": "js4PEc9KgHMi",
        "outputId": "fa5814a3-62d7-45d1-8622-b846d03eaddd"
      },
      "execution_count": 7,
      "outputs": [
        {
          "output_type": "stream",
          "name": "stdout",
          "text": [
            "Third meaning of 'parcel' is: an extended area of land\n"
          ]
        }
      ]
    },
    {
      "cell_type": "markdown",
      "source": [
        "# Noun"
      ],
      "metadata": {
        "id": "2d-Vvu3fhVOD"
      }
    },
    {
      "cell_type": "code",
      "source": [
        "def extract_nouns(word):\n",
        "    nouns = []\n",
        "    for synset in wordnet.synsets(word):\n",
        "        for lemma in synset.lemmas():\n",
        "            if lemma.synset().pos() == 'n':\n",
        "                nouns.append(lemma.name())\n",
        "    return nouns\n",
        "\n",
        "word = \"background_level\"\n",
        "synonyms = extract_nouns(word)\n",
        "print(\"Nouns of '{}': {}\".format(word, synonyms))"
      ],
      "metadata": {
        "colab": {
          "base_uri": "https://localhost:8080/"
        },
        "id": "h6RDXzBLhJFv",
        "outputId": "de914e3a-cf4d-4826-8362-e13ae6be15fa"
      },
      "execution_count": 9,
      "outputs": [
        {
          "output_type": "stream",
          "name": "stdout",
          "text": [
            "Nouns of 'background_level': ['noise_level', 'background_level']\n"
          ]
        }
      ]
    },
    {
      "cell_type": "markdown",
      "source": [
        "# Verb"
      ],
      "metadata": {
        "id": "LK321xP1ha00"
      }
    },
    {
      "cell_type": "code",
      "source": [
        "from nltk.corpus import wordnet\n",
        "\n",
        "def extract_verbs(word):\n",
        "    verbs = []\n",
        "    for synset in wordnet.synsets(word):\n",
        "        for lemma in synset.lemmas():\n",
        "            if lemma.synset().pos() == 'v':\n",
        "                verbs.append(lemma.name())\n",
        "    return verbs\n",
        "\n",
        "word = \"introvert\"\n",
        "synonyms = extract_verbs(word)\n",
        "print(\"Verbs of '{}': {}\".format(word, synonyms))\n"
      ],
      "metadata": {
        "colab": {
          "base_uri": "https://localhost:8080/"
        },
        "id": "xFQLnCZ8hckB",
        "outputId": "9fa3d52b-bdd4-4f3a-bc5b-1a8ecbb0f7df"
      },
      "execution_count": 11,
      "outputs": [
        {
          "output_type": "stream",
          "name": "stdout",
          "text": [
            "Verbs of 'introvert': ['invaginate', 'introvert', 'introvert']\n"
          ]
        }
      ]
    },
    {
      "cell_type": "markdown",
      "source": [
        "# Adjectives"
      ],
      "metadata": {
        "id": "jfWXqmAqhnlW"
      }
    },
    {
      "cell_type": "code",
      "source": [
        "from nltk.corpus import wordnet\n",
        "\n",
        "def extract_adjectives(word):\n",
        "    adjectives = []\n",
        "    for synset in wordnet.synsets(word):\n",
        "        for lemma in synset.lemmas():\n",
        "            if lemma.synset().pos() == 'a':\n",
        "                adjectives.append(lemma.name())\n",
        "    return adjectives\n",
        "\n",
        "word = \"bear\"\n",
        "synonyms = extract_adjectives(word)\n",
        "print(\"Adjectives of '{}': {}\".format(word, synonyms))\n"
      ],
      "metadata": {
        "colab": {
          "base_uri": "https://localhost:8080/"
        },
        "id": "zX60gkeqhpQE",
        "outputId": "313baccd-52fb-43ca-9de7-cbad39e9e61d"
      },
      "execution_count": 16,
      "outputs": [
        {
          "output_type": "stream",
          "name": "stdout",
          "text": [
            "Adjectives of 'bear': []\n"
          ]
        }
      ]
    },
    {
      "cell_type": "code",
      "source": [],
      "metadata": {
        "id": "7iO60BH0h2HR"
      },
      "execution_count": null,
      "outputs": []
    }
  ]
}